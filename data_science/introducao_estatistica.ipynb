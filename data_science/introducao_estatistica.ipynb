{
  "nbformat": 4,
  "nbformat_minor": 0,
  "metadata": {
    "colab": {
      "provenance": [],
      "toc_visible": true,
      "authorship_tag": "ABX9TyMAmIDjxIo+i1pWHx79AFJS"
    },
    "kernelspec": {
      "name": "python3",
      "display_name": "Python 3"
    },
    "language_info": {
      "name": "python"
    }
  },
  "cells": [
    {
      "cell_type": "markdown",
      "source": [
        "# Introdução à Estatística\n",
        "Estatística é a ciência da análise de dados.\n",
        "\n",
        "Quando criamos um modelo de previsão, devemos avaliar a confiabilidade da previsão.\n",
        "\n",
        "Afinal, de que vale uma previsão se não podemos confiar nela?\n",
        "Estatísticas descritivas\n",
        "\n",
        "# Abordaremos primeiro algumas estatísticas descritivas básicas.\n",
        "\n",
        "A estatística descritiva resume características importantes de um conjunto de dados, como:\n",
        "\n",
        "    Contar\n",
        "    Soma\n",
        "    Desvio padrão\n",
        "    Percentil\n",
        "    Média\n",
        "    Etc..\n",
        "\n",
        "É um bom ponto de partida para se familiarizar com os dados.\n",
        "\n",
        "Podemos usar a função describe() em Python para resumir os dados:"
      ],
      "metadata": {
        "id": "aFLIT8PD-mlF"
      }
    },
    {
      "cell_type": "code",
      "source": [
        "import pandas as pd\n",
        "\n",
        "full_health_data = pd.read_csv(\"data.csv\", header=0, sep=\",\")\n",
        "\n",
        "pd.set_option('display.max_columns',None)\n",
        "pd.set_option('display.max_rows',None)\n",
        "\n",
        "print (full_health_data.describe())\n"
      ],
      "metadata": {
        "id": "dQBt7HMR-xIf"
      },
      "execution_count": null,
      "outputs": []
    }
  ]
}