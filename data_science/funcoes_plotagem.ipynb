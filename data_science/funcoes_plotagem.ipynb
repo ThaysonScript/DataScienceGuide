{
  "nbformat": 4,
  "nbformat_minor": 0,
  "metadata": {
    "colab": {
      "provenance": [],
      "authorship_tag": "ABX9TyPMxmfPPWI4ILe85PIJWND5",
      "include_colab_link": true
    },
    "kernelspec": {
      "name": "python3",
      "display_name": "Python 3"
    },
    "language_info": {
      "name": "python"
    }
  },
  "cells": [
    {
      "cell_type": "markdown",
      "metadata": {
        "id": "view-in-github",
        "colab_type": "text"
      },
      "source": [
        "<a href=\"https://colab.research.google.com/github/ThaysonScript/DataScienceGuide/blob/main/data_science/funcoes_plotagem.ipynb\" target=\"_parent\"><img src=\"https://colab.research.google.com/assets/colab-badge.svg\" alt=\"Open In Colab\"/></a>"
      ]
    },
    {
      "cell_type": "markdown",
      "source": [
        "# Traçando Funções Lineares"
      ],
      "metadata": {
        "id": "Y7Zp9OZvuciW"
      }
    },
    {
      "cell_type": "code",
      "execution_count": 9,
      "metadata": {
        "colab": {
          "base_uri": "https://localhost:8080/",
          "height": 430
        },
        "id": "IoSajMk0njUw",
        "outputId": "95127ff5-1ce1-4814-c089-bd66e8bd050b"
      },
      "outputs": [
        {
          "output_type": "display_data",
          "data": {
            "text/plain": [
              "<Figure size 640x480 with 1 Axes>"
            ],
            "image/png": "[encoded data removed]"
          },
          "metadata": {}
        }
      ],
      "source": [
        "import matplotlib.pyplot as plt\n",
        "\n",
        "# O conjunto de dados do relógio esportivo\n",
        "relogio_esportivo = {\n",
        "    \"duracao\": [30, 30, 45, 45, 45, 60, 60, 60, 75, 75],\n",
        "    \"pulso_medio\": [80, 85, 90, 95, 100, 105, 110, 115, 120, 125],\n",
        "    \"pulso_max\": [120, 120, 130, 130, 140, 140, 145, 145, 150, 150],\n",
        "    \"caloria_burnage\": [240, 250, 260, 270, 280, 290, 300, 310, 320, 330],\n",
        "    \"horas_trabalho\": [10, 10, 8, 8, 0, 7, 7, 8, 0, 8],\n",
        "    \"horas_sono\": [7, 7, 7, 7, 7, 8, 8, 8, 8, 8]\n",
        "\n",
        "}\n",
        "\n",
        "pulso_medio = relogio_esportivo['pulso_medio']\n",
        "caloria_burnage = relogio_esportivo['caloria_burnage']\n",
        "\n",
        "plt.plot(pulso_medio, caloria_burnage)\n",
        "plt.ylim(ymin=0)\n",
        "plt.xlim(xmin=0)\n",
        "\n",
        "plt.show()\n"
      ]
    },
    {
      "cell_type": "markdown",
      "source": [
        "# A saída do gráfico\n",
        "\n",
        "Como podemos ver, existe uma relação entre Average_Pulse e Calorie_Burnage. Calorie_Burnage aumenta proporcionalmente com Average_Pulse. Isso significa que podemos usar Average_Pulse para prever Calorie_Burnage"
      ],
      "metadata": {
        "id": "_2o7s94ku8HK"
      }
    },
    {
      "cell_type": "markdown",
      "source": [
        "# Por que a linha não está totalmente desenhada até o eixo y?\n",
        "\n",
        "A razão é que não temos observações onde Average_Pulse ou Calorie_Burnage sejam iguais a zero. 80 é a primeira observação de Average_Pulse e 240 é a primeira observação de Calorie_Burnage."
      ],
      "metadata": {
        "id": "kb1oukU_vS2W"
      }
    },
    {
      "cell_type": "markdown",
      "source": [
        "Olhe para a linha. O que acontece com a queima de calorias se o pulso médio aumentar de 80 para 90?\n",
        "\n",
        "Podemos usar a linha diagonal para encontrar a função matemática para prever a queima de calorias.\n",
        "\n",
        "Acontece que:\n",
        "\n",
        "    Se o pulso médio for 80, a queima de calorias é 240\n",
        "    Se o pulso médio for 90, a queima de calorias é 260\n",
        "    Se o pulso médio for 100, a queima de calorias é 280\n",
        "\n",
        "Existe um padrão. Se o pulso médio aumentar em 10, a queima de calorias aumenta em 20."
      ],
      "metadata": {
        "id": "ZtLScc7kvrLG"
      }
    },
    {
      "cell_type": "markdown",
      "source": [
        "# Exemplo explicado\n",
        "    Importe o módulo pyplot da biblioteca matplotlib\n",
        "\n",
        "    A função plot() é usada para fazer um gráfico de classificação hexagonal 2D dos pontos x,y\n",
        "\n",
        "    Plote os dados de Average_Pulse em relação a Calorie_Burnage\n",
        "\n",
        "    kind='line'nos diz que tipo de enredo queremos. Aqui, queremos ter uma linha reta\n",
        "\n",
        "    plt.ylim() e plt.xlim() nos dizem em qual valor queremos que o eixo comece. Aqui, queremos que o eixo comece do zero\n",
        "\n",
        "    plt.show() nos mostra a saída\n"
      ],
      "metadata": {
        "id": "ct59mrTuuS80"
      }
    }
  ]
}