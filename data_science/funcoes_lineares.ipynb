{
  "nbformat": 4,
  "nbformat_minor": 0,
  "metadata": {
    "colab": {
      "provenance": [],
      "toc_visible": true,
      "authorship_tag": "ABX9TyPyKHjNRgaxktObzPP2AL+U"
    },
    "kernelspec": {
      "name": "python3",
      "display_name": "Python 3"
    },
    "language_info": {
      "name": "python"
    }
  },
  "cells": [
    {
      "cell_type": "markdown",
      "source": [
        "# Funções Lineares\n",
        "\n",
        "### Uma função é usada para relacionar uma variável a outra variável.\n",
        "\n",
        "#### Consideremos a relação entre queima de calorias e pulso médio. A queima de calorias mudará à medida que a pulsação média muda.\n",
        "\n",
        "#### Dizemos que a queima de calorias depende da pulsação média.\n",
        "\n",
        "#### À medida que a pulsação média aumenta, também aumenta a queima de calorias.\n",
        "#### A queima de calorias e o pulso médio são as duas variáveis consideradas.\n",
        "\n",
        "#### Como a queima de calorias depende da pulsação média, dizemos que a queima de calorias é a variável dependente e a pulsação média é a variável independente.\n",
        "\n",
        "#### A relação entre uma variável dependente e uma variável independente muitas vezes pode ser expressa matematicamente por meio de uma fórmula (função).\n",
        "\n",
        "#### Uma função linear possui uma variável independente (x) e uma variável dependente (y) e tem a seguinte forma:\n",
        "`y = f(x) = ax + b`\n",
        "\n",
        "#### Esta função é usada para calcular um valor para a variável dependente quando escolhemos um valor para a variável independente.\n",
        "\n",
        "## Explicação:\n",
        "\n",
        "    y = f(x) = a saída (a variável dependente)\n",
        "\n",
        "    x = a entrada (a variável independente)\n",
        "\n",
        "    a = inclinação = é o coeficiente da variável independente. Dá a taxa de variação da variável dependente\n",
        "\n",
        "    b = interceptação = é o valor da variável dependente quando x = 0. É também o ponto onde a linha diagonal cruza o eixo vertical.\n",
        "\n",
        "\n",
        "# Função Linear com Uma Variável Explicativa\n",
        "\n",
        "#### Uma função com uma variável explicativa significa que usamos uma variável para previsão.\n",
        "\n",
        "#### Digamos que queremos prever a queima de calorias usando o pulso médio. Temos a seguinte fórmula:  \n",
        "y = f(x) = 2x + 80\n",
        "\n",
        "#### Aqui, os números e variáveis ​​significam:\n",
        "\n",
        "    y = f(x) = A saída. Este número é onde obtemos o valor previsto de Calorie_Burnage\n",
        "\n",
        "    x = A entrada, que é Average_Pulse\n",
        "\n",
        "    2 = Slope = Especifica quanto de Calorie_Burnage aumenta se Average_Pulse aumentar em um.\n",
        "    Diz-nos quão \"íngreme\" é a linha diagonal.\n",
        "\n",
        "    80 = Interceptação = Um valor fixo. É o valor da variável dependente quando x = 0\n",
        "\n",
        "# Traçando uma função linear\n",
        "\n",
        "#### O termo linearidade significa uma \"linha reta\". Portanto, se você mostrar graficamente uma função linear, a linha será sempre uma linha reta. A linha pode inclinar-se para cima, para baixo e, em alguns casos, pode ser horizontal ou vertical.\n"
      ],
      "metadata": {
        "id": "rg49we1xw1DO"
      }
    }
  ]
}