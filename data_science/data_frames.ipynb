{
  "nbformat": 4,
  "nbformat_minor": 0,
  "metadata": {
    "colab": {
      "provenance": [],
      "authorship_tag": "ABX9TyNlP449vF4ImKUzzKAtB9Rq"
    },
    "kernelspec": {
      "name": "python3",
      "display_name": "Python 3"
    },
    "language_info": {
      "name": "python"
    }
  },
  "cells": [
    {
      "cell_type": "markdown",
      "source": [],
      "metadata": {
        "id": "2R-jQVKbaOVO"
      }
    },
    {
      "cell_type": "markdown",
      "source": [
        "# O que é DataFrame\n",
        "\n",
        "Um DataFrame é uma estrutura de dados bidimensional, semelhante a uma tabela ou planilha, que é muito utilizada na análise de dados em Python, especialmente em bibliotecas como pandas.\n",
        "\n",
        "Características do DataFrame:\n",
        "\n",
        "    Bidimensional: Os dados estão dispostos em duas dimensões, com linhas e colunas. Isso permite organizar e manipular dados de forma tabular, semelhante a uma planilha.\n",
        "\n",
        "    Rotulagem de Linha e Coluna: Cada linha e coluna em um DataFrame possui um rótulo único associado a ela. Isso facilita a indexação e o acesso aos dados.\n",
        "\n",
        "    Heterogeneidade de Dados: Os DataFrames podem conter diferentes tipos de dados em suas colunas. Por exemplo, uma coluna pode conter valores inteiros, enquanto outra pode conter strings ou valores de ponto flutuante.\n",
        "\n",
        "    Flexibilidade e Funcionalidade: Pandas fornece uma ampla gama de funcionalidades para trabalhar com DataFrames, incluindo operações de seleção, filtragem, agrupamento, junção, pivoteamento e muito mais. Isso torna o DataFrame uma estrutura de dados muito poderosa para análise e manipulação de dados.\n",
        "\n",
        "Em resumo, um DataFrame é uma estrutura de dados versátil e eficaz para lidar com conjuntos de dados tabulares em Python, fornecendo uma maneira conveniente de manipular e analisar dados."
      ],
      "metadata": {
        "id": "zahM0Qw9abku"
      }
    },
    {
      "cell_type": "markdown",
      "source": [
        "Exemplo explicado\n",
        "\n",
        "    Importe a biblioteca Pandas como pd\n",
        "    Defina dados com colunas e linhas em uma variável chamada d\n",
        "    Crie um quadro de dados usando a função pd.DataFrame()\n",
        "    O quadro de dados contém 3 colunas e 5 linhas\n",
        "    Imprima a saída do quadro de dados com a função print()\n"
      ],
      "metadata": {
        "id": "ag7XQfoZa0Tk"
      }
    },
    {
      "cell_type": "code",
      "source": [
        "import pandas as pd\n",
        "\n",
        "d = {\n",
        "    'col1': [1, 2, 3, 4, 7],\n",
        "    'col2': [4, 5, 6, 9, 5],\n",
        "    'col3': [7, 8, 12, 1, 11]\n",
        "    }\n",
        "\n",
        "df = pd.DataFrame(data=d)\n",
        "\n",
        "print(df)"
      ],
      "metadata": {
        "id": "I_FyYHs3alSo"
      },
      "execution_count": null,
      "outputs": []
    },
    {
      "cell_type": "markdown",
      "source": [
        "Vemos que `“col1”, “col2” e “col3”` são os nomes das colunas.\n",
        "\n",
        "Não se confunda com os números verticais que variam de 0 a 4. Eles nos fornecem informações sobre a posição das linhas.\n",
        "\n",
        "Agora podemos usar Python para contar colunas e linhas.\n",
        "\n",
        "Podemos usar `f.shape[1]` para encontrar o número de colunas:"
      ],
      "metadata": {
        "id": "x54Xj8-8bOIs"
      }
    },
    {
      "cell_type": "code",
      "source": [
        "count_column = df.shape[1]\n",
        "print(f'numero de colunas = {count_column}')"
      ],
      "metadata": {
        "id": "_HC8LwOGbht0",
        "outputId": "736e2965-42e3-4b1e-aa64-874213648249",
        "colab": {
          "base_uri": "https://localhost:8080/"
        }
      },
      "execution_count": 8,
      "outputs": [
        {
          "output_type": "stream",
          "name": "stdout",
          "text": [
            "numero de colunas = 3\n"
          ]
        }
      ]
    },
    {
      "cell_type": "markdown",
      "source": [
        "Podemos usar df.shape[0] para encontrar o número de linhas:"
      ],
      "metadata": {
        "id": "DeywO8W2bvQH"
      }
    },
    {
      "cell_type": "code",
      "source": [
        "count_row = df.shape[0]\n",
        "print(count_row)"
      ],
      "metadata": {
        "id": "3rSj6Votbvf_",
        "outputId": "e3757d89-44a2-4c0f-9dc0-9fc554ac5afe",
        "colab": {
          "base_uri": "https://localhost:8080/"
        }
      },
      "execution_count": 9,
      "outputs": [
        {
          "output_type": "stream",
          "name": "stdout",
          "text": [
            "5\n"
          ]
        }
      ]
    }
  ]
}