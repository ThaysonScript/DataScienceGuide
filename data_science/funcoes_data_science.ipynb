{
  "nbformat": 4,
  "nbformat_minor": 0,
  "metadata": {
    "colab": {
      "provenance": [],
      "toc_visible": true,
      "authorship_tag": "ABX9TyOwwqxYqiV7zVKBjgRmRe9E"
    },
    "kernelspec": {
      "name": "python3",
      "display_name": "Python 3"
    },
    "language_info": {
      "name": "python"
    }
  },
  "cells": [
    {
      "cell_type": "markdown",
      "source": [
        "# Funções mais usadas em DataScience\n",
        "\n",
        "max(), min() e mean()\n",
        "\n",
        "| Duração | Média_Pulso | Pulso_máx. | Caloria_Burnage | Horas_Trabalho | Horas_sono |\n",
        "|---------|-------------|------------|-----------------|----------------|------------|\n",
        "| 30      | 80          | 120        | 240             | 10             | 7          |\n",
        "| 30      | 85          | 120        | 250             | 10             | 7          |\n",
        "| 45      | 90          | 130        | 260             | 8              | 7          |\n",
        "| 45      | 95          | 130        | 270             | 8              | 7          |\n",
        "| 45      | 100         | 140        | 280             | 0              | 7          |\n",
        "| 60      | 105         | 140        | 290             | 7              | 8          |\n",
        "| 60      | 110         | 145        | 300             | 7              | 8          |\n",
        "| 60      | 115         | 145        | 310             | 8              | 8          |\n",
        "| 75      | 120         | 150        | 320             | 0              | 8          |\n",
        "| 75      | 125         | 150        | 330             | 8              | 8          |\n",
        "\n",
        "O conjunto de dados acima consiste em 6 variáveis, cada uma com 10 observações:\n",
        "\n",
        "    Duração - Quanto tempo durou a sessão de treinamento em minutos?\n",
        "\n",
        "    Average_Pulse - Qual foi a pulsação média da sessão de treino? Isso é medido em batidas por minuto\n",
        "\n",
        "    Max_Pulse - Qual foi a pulsação máxima da sessão de treino?\n",
        "\n",
        "    Calorie_Burnage - Quantas calorias foram queimadas na sessão de treino?\n",
        "    \n",
        "    Horas_Trabalho - Quantas horas trabalhamos em nosso trabalho antes da sessão de treinamento?\n",
        "\n",
        "    Hours_Sleep - Quanto dormimos na noite anterior ao treino?\n"
      ],
      "metadata": {
        "id": "2R-jQVKbaOVO"
      }
    },
    {
      "cell_type": "markdown",
      "source": [
        "# Método max()\n",
        "\n",
        "max() é usada para encontrar o valor mais alto em um array."
      ],
      "metadata": {
        "id": "wXe9dbIRdBwx"
      }
    },
    {
      "cell_type": "code",
      "source": [
        "Average_pulse_max = max(80, 85, 90, 95, 100, 105, 110, 115, 120, 125)\n",
        "\n",
        "print (Average_pulse_max)"
      ],
      "metadata": {
        "id": "AOCtFtMUdGZq",
        "outputId": "8edbc6b2-7612-4b5d-a5cf-70ea7c72b591",
        "colab": {
          "base_uri": "https://localhost:8080/"
        }
      },
      "execution_count": 10,
      "outputs": [
        {
          "output_type": "stream",
          "name": "stdout",
          "text": [
            "125\n"
          ]
        }
      ]
    },
    {
      "cell_type": "markdown",
      "source": [
        "# Método min()\n",
        "\n",
        "min() é usado para pegar o valor mais baixo de um array"
      ],
      "metadata": {
        "id": "X2mzqgvOdSR2"
      }
    },
    {
      "cell_type": "code",
      "source": [
        "Average_pulse_min = min(80, 85, 90, 95, 100, 105, 110, 115, 120, 125)\n",
        "\n",
        "print (Average_pulse_min)"
      ],
      "metadata": {
        "id": "sl6ab4MTdSpe"
      },
      "execution_count": null,
      "outputs": []
    },
    {
      "cell_type": "markdown",
      "source": [
        "# Método mean()\n",
        "\n",
        "O método NumPy mean() é usada para encontrar o valor médio de um array."
      ],
      "metadata": {
        "id": "U3-_ZC56dj2O"
      }
    },
    {
      "cell_type": "code",
      "source": [
        "import numpy as np\n",
        "\n",
        "Calorie_burnage = [240, 250, 260, 270, 280, 290, 300, 310, 320, 330]\n",
        "\n",
        "Average_calorie_burnage = np.mean(Calorie_burnage)\n",
        "\n",
        "print(Average_calorie_burnage)"
      ],
      "metadata": {
        "id": "JpVjl01ndkeF",
        "outputId": "c3c43512-310e-43f8-b718-e1dc665c4c04",
        "colab": {
          "base_uri": "https://localhost:8080/"
        }
      },
      "execution_count": 11,
      "outputs": [
        {
          "output_type": "stream",
          "name": "stdout",
          "text": [
            "285.0\n"
          ]
        }
      ]
    }
  ]
}