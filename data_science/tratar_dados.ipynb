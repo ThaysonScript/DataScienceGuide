{
  "nbformat": 4,
  "nbformat_minor": 0,
  "metadata": {
    "colab": {
      "provenance": [],
      "toc_visible": true,
      "authorship_tag": "ABX9TyP7UKp6mQJwrUsUZBrFfFfl"
    },
    "kernelspec": {
      "name": "python3",
      "display_name": "Python 3"
    },
    "language_info": {
      "name": "python"
    }
  },
  "cells": [
    {
      "cell_type": "markdown",
      "source": [
        "# Preparar e Tratar Dados\n",
        "\n",
        "Antes de analisar os dados, um Cientista de Dados deve extraí-los e torná-los limpos e valiosos.\n",
        "\n",
        "## Extraindo e lendo dados com Pandas\n",
        "\n",
        "Antes que os dados possam ser analisados, eles devem ser importados/extraídos.\n",
        "\n",
        "Utilizamos a read_csv()função para importar um arquivo CSV com os dados de saúde:"
      ],
      "metadata": {
        "id": "_0KL0aUSeYjr"
      }
    },
    {
      "cell_type": "code",
      "source": [
        "import pandas as pd\n",
        "\n",
        "health_data = pd.read_csv(\"data.csv\", header=0, sep=\",\")\n",
        "\n",
        "print(health_data)"
      ],
      "metadata": {
        "id": "Rfh_iPm5e55S"
      },
      "execution_count": null,
      "outputs": []
    },
    {
      "cell_type": "markdown",
      "source": [
        "Exemplo explicado\n",
        "\n",
        "    Importe a biblioteca Pandas.\n",
        "\n",
        "    Nomeie o quadro de dados como health_data.\n",
        "\n",
        "    header=0 significa que os cabeçalhos dos nomes das variáveis ​​podem ser encontrados na primeira linha, linha 0.\n",
        "\n",
        "    sep=\",\"significa que \",\" é usado como separador entre os valores. Isso ocorre porque estamos usando o tipo de arquivo .csv (valores separados por vírgula)\n",
        "\n",
        "Dica: Se tiver um arquivo CSV grande, poderá usar a função head() para mostrar apenas as 5 linhas principais:"
      ],
      "metadata": {
        "id": "71pckRwCgI1W"
      }
    },
    {
      "cell_type": "code",
      "source": [
        "import pandas as pd\n",
        "\n",
        "health_data = pd.read_csv(\"data.csv\", header=0, sep=\",\")\n",
        "\n",
        "print(health_data.head())"
      ],
      "metadata": {
        "id": "MvSIO1VnghXt"
      },
      "execution_count": null,
      "outputs": []
    },
    {
      "cell_type": "markdown",
      "source": [
        "Limpeza de dados\n",
        "\n",
        "| Duration | Average_Pulse | Max_Pulse | Calorie_Burnage | Hours_Work | Hours_Sleep |\n",
        "|----------|---------------|-----------|-----------------|------------|-------------|\n",
        "| 30       | 80            | 120       | 240             | 10         | 7           |\n",
        "| 45       | 85            | 120       | 250             | 10         | 7           |\n",
        "| 45       | 90            | 130       | 260             | 8          | 7           |\n",
        "| 60       | 95            | 130       | 270             | 8          | 7           |\n",
        "| 60       | 100           | 140       | 280             | 0          | 7           |\n",
        "| 60       | 105           | 140       | 290             | 7          | 8           |\n",
        "| 60       | 110           | 145       | 300             | 7          | 8           |\n",
        "| 45       | NaN              | AF        | NaN                | 8          | 8           |\n",
        "| 45       | 115           | 145       | 310             | 8          | 8           |\n",
        "| 60       | 120           | 150       | 320             | 0          | 8           |\n",
        "| 60       | 9000          | 130       | NaN                | NaN           | 8           |\n",
        "| 45       | 125           | 150       | 330             | 8          | 8           |\n",
        "\n",
        "Veja os dados importados. Como você pode ver, os dados estão \"sujos\" com valores errados ou não registrados:\n",
        "Dados sujos\n",
        "\n",
        "    Existem alguns campos em branco = NaN\n",
        "\n",
        "    Pulso médio de 9.000 não é possível.\n",
        "\n",
        "    9.000 serão tratados como não numéricos, devido ao separador de espaço\n",
        "\n",
        "    Uma observação do pulso máximo é denotada como \"AF\", o que não faz sentido\n",
        "\n",
        "Portanto, devemos limpar os dados para realizar a análise."
      ],
      "metadata": {
        "id": "3DPC67WAg7fh"
      }
    },
    {
      "cell_type": "markdown",
      "source": [
        "# Remover linhas em branco\n",
        "\n",
        "Vemos que os valores não numéricos (9.000 e AF) estão nas mesmas linhas com valores ausentes.\n",
        "\n",
        "    Solução: podemos remover as linhas com observações ausentes para corrigir esse problema.\n",
        "\n",
        "    Quando carregamos um conjunto de dados usando Pandas, todas as células em branco são automaticamente convertidas em valores “NaN”.\n",
        "\n",
        "    Portanto, remover as células NaN nos dá um conjunto de dados limpo que pode ser analisado.\n",
        "\n",
        "Podemos usar a função dropna() para remover os NaNs.\n",
        "\n",
        "axis=0 significa que queremos remover todas as linhas que possuem um valor NaN:"
      ],
      "metadata": {
        "id": "Rv5VO7ctjS7N"
      }
    },
    {
      "cell_type": "code",
      "source": [
        "health_data.dropna(axis=0,inplace=True)\n",
        "\n",
        "print(health_data)"
      ],
      "metadata": {
        "id": "L9JryVWpjxJk"
      },
      "execution_count": null,
      "outputs": []
    },
    {
      "cell_type": "markdown",
      "source": [
        "O resultado é um conjunto de dados sem linhas NaN"
      ],
      "metadata": {
        "id": "F_d25UCFjyF1"
      }
    },
    {
      "cell_type": "markdown",
      "source": [
        "# Categorias de dados\n",
        "\n",
        "Para analisar dados, também precisamos conhecer os tipos de dados com os quais estamos lidando.\n",
        "\n",
        "Os dados podem ser divididos em três categorias principais:\n",
        "\n",
        "    Numérico - Contém valores numéricos. Pode ser dividido em duas categorias:\n",
        "        Discreto: os números são contados como \"inteiros\". Exemplo: Você não pode ter treinado 2,5 sessões, são 2 ou 3\n",
        "        Contínuo: os números podem ter precisão infinita. Por exemplo, você pode dormir 7 horas, 30 minutos e 20 segundos, ou 7.533 horas\n",
        "\n",
        "    Categórico - Contém valores que não podem ser medidos entre si. Exemplo:\n",
        "      uma cor ou um tipo de treinamento\n",
        "\n",
        "    Ordinal - Contém dados categóricos que podem ser comparados entre si.\n",
        "    \n",
        "    Exemplo: Notas escolares onde A é melhor que B e assim por diante\n",
        "\n",
        "Ao conhecer o tipo de seus dados, você saberá qual técnica utilizar na hora de analisá-los."
      ],
      "metadata": {
        "id": "ErZckrddkN5G"
      }
    },
    {
      "cell_type": "markdown",
      "source": [
        "# Tipos de dados\n",
        "\n",
        "Podemos usar a função info() para listar os tipos de dados em nosso conjunto de dados:"
      ],
      "metadata": {
        "id": "YI-5St5Vkg8G"
      }
    },
    {
      "cell_type": "code",
      "source": [
        "print(health_data.info())"
      ],
      "metadata": {
        "id": "YcPFoze5klXk"
      },
      "execution_count": null,
      "outputs": []
    },
    {
      "cell_type": "markdown",
      "source": [
        "Vemos que este conjunto de dados possui dois tipos diferentes de dados:\n",
        "\n",
        "    Float64\n",
        "    Objeto\n",
        "\n",
        "Não podemos usar objetos para calcular e realizar análises aqui. Devemos converter o tipo object para float64 (float64 é um número com decimal em Python).\n",
        "\n",
        "Podemos usar a astype()função para converter os dados em float64.\n",
        "\n",
        "O exemplo a seguir converte \"Average_Pulse\" e \"Max_Pulse\" no tipo de dados float64 (as outras variáveis ​​já são do tipo de dados float64):"
      ],
      "metadata": {
        "id": "1j2FO416k8fS"
      }
    },
    {
      "cell_type": "code",
      "source": [
        "health_data[\"Average_Pulse\"] = health_data['Average_Pulse'].astype(float)\n",
        "health_data[\"Max_Pulse\"] = health_data[\"Max_Pulse\"].astype(float)\n",
        "\n",
        "print (health_data.info())"
      ],
      "metadata": {
        "id": "f1r7QDWtk99S"
      },
      "execution_count": null,
      "outputs": []
    },
    {
      "cell_type": "markdown",
      "source": [
        "Agora, o conjunto de dados possui apenas tipos de dados float64."
      ],
      "metadata": {
        "id": "1oIpyCqOlANk"
      }
    },
    {
      "cell_type": "markdown",
      "source": [
        "# Analise os dados\n",
        "\n",
        "Depois de limparmos o conjunto de dados, podemos começar a analisar os dados.\n",
        "\n",
        "Podemos usar a função describe() em Python para resumir os dados:"
      ],
      "metadata": {
        "id": "p4neOJQAlEAM"
      }
    },
    {
      "cell_type": "code",
      "source": [
        "print(health_data.describe())"
      ],
      "metadata": {
        "id": "Roa_YEQElPUH"
      },
      "execution_count": null,
      "outputs": []
    },
    {
      "cell_type": "markdown",
      "source": [
        "Resultado:\n",
        "\n",
        "\n",
        "|          | Duração | Média_Pulso | Pulso_máx. | Caloria_Burnage | Horas_Trabalho | Horas_sono |\n",
        "|----------|----------|--------------|-------------|-----------------|------------------|-------------|\n",
        "| Contar   |   10.0   |     10.0        |     10.0        |       10.0            |          10.0         |     10.0      |\n",
        "| Significar |  51.0 |   102.5       |    137.0      |      285.0           |           6.6           |       7.5       |\n",
        "| Padrão   |  10.49  |    15.4          |      11.35     |        30.28          |           3.63          |      0.53     |\n",
        "| Mínimo  |  30.0    |    80.0         |     120.0     |        240.0         |           0.0             |       7.0      |\n",
        "| 25%       |  45.0    |    91.25       |     130.0     |       262.5          |           7.0             |       7.0      |\n",
        "| 50%       |  52.5    |    102.5       |     140.0     |       285.0          |           8.0             |       7.5      |\n",
        "| 75%       |  60.0    |    113.75     |     145.0     |       307.5          |           8.0             |       8.0      |\n",
        "| Máx.    |  60.0    |    125.0       |     150.0     |       330.0          |          10.0            |       8.0      |\n",
        "\n",
        "\n",
        "    Contar - Conta o número de observações\n",
        "    Média - O valor médio\n",
        "    Std - Desvio padrão (explicado no capítulo de estatísticas)\n",
        "    Mínimo - O valor mais baixo\n",
        "    25% , 50% e 75% são percentis (explicados no capítulo de estatísticas)\n",
        "    Máx. - O valor mais alto\n"
      ],
      "metadata": {
        "id": "QrX-VtpklP8P"
      }
    }
  ]
}