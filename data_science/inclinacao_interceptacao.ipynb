{
  "nbformat": 4,
  "nbformat_minor": 0,
  "metadata": {
    "colab": {
      "provenance": [],
      "toc_visible": true,
      "authorship_tag": "ABX9TyMx8TKS+zYwDJZDe/fa9Nic"
    },
    "kernelspec": {
      "name": "python3",
      "display_name": "Python 3"
    },
    "language_info": {
      "name": "python"
    }
  },
  "cells": [
    {
      "cell_type": "markdown",
      "source": [
        "# Inclinação e interceptação\n",
        "\n",
        "Agora explicaremos como encontramos a inclinação e a interceptação de nossa função: `f(x) = 2x + 80`\n",
        "\n",
        "# Encontre a inclinação\n",
        "\n",
        "A inclinação é definida como o quanto aumenta a queima de calorias, se o pulso médio aumentar em um. Diz-nos quão \"íngreme\" é a linha diagonal.\n",
        "\n",
        "### Podemos encontrar a inclinação usando a diferença proporcional de dois pontos do gráfico.\n",
        "\n",
        "    Se o pulso médio for 80, a queima de calorias é 240\n",
        "    Se o pulso médio for 90, a queima de calorias é 260\n",
        "\n",
        "Vemos que se o pulso médio aumentar em 10, a queima de calorias aumenta em 20.\n",
        "Slope = 20/10 = 2\n",
        "\n",
        "A inclinação é 2.\n",
        "\n",
        "\n",
        "# Matematicamente, a inclinação é definida como:\n",
        "    Slope = f(x2) - f(x1) / x2-x1\n",
        "\n",
        "    f(x2) = Segunda observação de Calorie_Burnage = 260\n",
        "\n",
        "    f(x1) = Primeira observação de Calorie_Burnage = 240\n",
        "\n",
        "    x2 = Segunda observação de Average_Pulse = 90\n",
        "\n",
        "    x1 ​​= Primeira observação de Average_Pulse = 80\n",
        "\n",
        "    Slope = (260-240) / (90 - 80) = 2\n",
        "\n",
        "\n",
        "\n",
        "\n",
        "#### Seja consistente para definir as observações na ordem correta! Caso contrário, a previsão não estará correta!\n"
      ],
      "metadata": {
        "id": "-GwP5ZUt6UYY"
      }
    },
    {
      "cell_type": "markdown",
      "source": [
        "# Use Python para encontrar a inclinação\n",
        "Calcule a inclinação com o seguinte código:"
      ],
      "metadata": {
        "id": "wx_U6dq76963"
      }
    },
    {
      "cell_type": "code",
      "source": [
        "def slope(x1, y1, x2, y2):\n",
        "  s = (y2-y1)/(x2-x1)\n",
        "  return s\n",
        "\n",
        "print (f'a inclinacao é: {slope(80,240,90,260)}')"
      ],
      "metadata": {
        "colab": {
          "base_uri": "https://localhost:8080/"
        },
        "id": "a16PLze97DZ5",
        "outputId": "ae5b514e-7dbd-46f0-c900-61d347f9239d"
      },
      "execution_count": 11,
      "outputs": [
        {
          "output_type": "stream",
          "name": "stdout",
          "text": [
            "a inclinacao é: 2.0\n"
          ]
        }
      ]
    },
    {
      "cell_type": "markdown",
      "source": [
        "# Encontre a interceptação\n",
        "A interceptação é usada para ajustar a capacidade da função de prever Calorie_Burnage.\n",
        "\n",
        "A interceptação é onde a linha diagonal cruza o eixo y, se ela tiver sido totalmente desenhada.\n",
        "\n",
        "A interceptação é o valor de y, quando x = 0.\n",
        "\n",
        "Aqui, vemos que se o pulso médio (x) for zero, então a queima de calorias (y) é 80. Então, a interceptação é 80.\n",
        "\n",
        "Às vezes, a interceptação tem um significado prático. Às vezes não.\n",
        "\n",
        "## Faz sentido que o pulso médio seja zero?\n",
        "Não, você estaria morto e certamente não queimaria nenhuma caloria.\n",
        "\n",
        "No entanto, precisamos incluir a interceptação para completar a capacidade da função matemática de prever Calorie_Burnage corretamente.\n",
        "\n",
        "Outros exemplos onde a interceptação de uma função matemática pode ter um significado prático:\n",
        "\n",
        "    Prever a receita do próximo ano usando despesas de marketing\n",
        "    (quanta receita teremos no próximo ano, se as despesas de marketing forem zero?).\n",
        "    \n",
        "    É provável que se presuma que uma empresa ainda terá alguma receita,\n",
        "    mesmo que não gaste dinheiro em marketing.\n",
        "\n",
        "    Consumo de combustível com velocidade (Quanto combustível usamos se a velocidade for igual a 0 mph?).\n",
        "    \n",
        "    Um carro que usa gasolina ainda usará combustível quando estiver parado.\n"
      ],
      "metadata": {
        "id": "dag6Hg5B7cCk"
      }
    },
    {
      "cell_type": "markdown",
      "source": [
        "# Encontre a inclinação e a interceptação usando Python\n",
        "\n",
        "A função np.polyfit() retorna a inclinação e a interceptação.\n",
        "\n",
        "Se prosseguirmos com o código a seguir, podemos obter a inclinação e a interceptação da função."
      ],
      "metadata": {
        "id": "b2iSPUUp72Xh"
      }
    },
    {
      "cell_type": "code",
      "source": [
        "import pandas as pd\n",
        "import numpy as np\n",
        "\n",
        "health_data = pd.read_csv(\"data.csv\", header=0, sep=\",\")\n",
        "\n",
        "x = health_data[\"Average_Pulse\"]\n",
        "y = health_data[\"Calorie_Burnage\"]\n",
        "slope_intercept = np.polyfit(x,y,1)\n",
        "\n",
        "print(slope_intercept)"
      ],
      "metadata": {
        "id": "Ow_dvClU73E6"
      },
      "execution_count": null,
      "outputs": []
    },
    {
      "cell_type": "markdown",
      "source": [
        "# Exemplo explicado:\n",
        "\n",
        "    Isole as variáveis ​​Average_Pulse (x) e Calorie_Burnage (y) de health_data.\n",
        "    Chame a função np.polyfit().\n",
        "    O último parâmetro da função especifica o grau da função, que neste caso é “1”.\n"
      ],
      "metadata": {
        "id": "q4snVqDT767K"
      }
    },
    {
      "cell_type": "markdown",
      "source": [
        "\n",
        "Dica: funções lineares = função de 1. grau. No nosso exemplo, a função é linear, que está no 1º grau. Isso significa que todos os coeficientes (os números) estão na potência de um."
      ],
      "metadata": {
        "id": "4vaewSpB8ev8"
      }
    },
    {
      "cell_type": "markdown",
      "source": [
        "Calculamos agora a inclinação (2) e a interceptação (80). Podemos escrever a função matemática da seguinte forma:\n",
        "\n",
        "Preveja Calorie_Burnage usando uma expressão matemática:\n",
        "f(x) = 2x + 80\n",
        "Tarefa:\n",
        "\n",
        "Agora, queremos prever a queima de calorias se o pulso médio for 135.\n",
        "\n",
        "Lembre-se de que a interceptação é uma constante. Uma constante é um número que não muda.\n",
        "\n",
        "Agora podemos substituir a entrada x por 135:\n",
        "f(135) = 2 * 135 + 80 = 350\n",
        "\n",
        "Se o pulso médio for 135, a queima de calorias é 350."
      ],
      "metadata": {
        "id": "lHoYDV2a7_GW"
      }
    },
    {
      "cell_type": "markdown",
      "source": [
        "# Defina a função matemática em Python\n",
        "\n",
        "Aqui está exatamente a mesma função matemática, mas em Python. A função retorna 2*x + 80, com x como entrada:"
      ],
      "metadata": {
        "id": "6halKrbB8CQ7"
      }
    },
    {
      "cell_type": "code",
      "source": [
        "def my_function(x):\n",
        "  return 2*x + 80\n",
        "\n",
        "print (my_function(135))"
      ],
      "metadata": {
        "id": "d8LbMGje8EJJ"
      },
      "execution_count": null,
      "outputs": []
    },
    {
      "cell_type": "markdown",
      "source": [
        "Tente substituir x por 140 e 150."
      ],
      "metadata": {
        "id": "iMEHUHvj8Hnq"
      }
    },
    {
      "cell_type": "markdown",
      "source": [
        "# Trace um novo gráfico em Python\n",
        "\n",
        "Aqui, traçamos o mesmo gráfico de antes, mas formatamos um pouco o eixo.\n",
        "\n",
        "O valor máximo do eixo y agora é 400 e do eixo x é 150:"
      ],
      "metadata": {
        "id": "wCdjgsYl8G30"
      }
    },
    {
      "cell_type": "code",
      "source": [
        "import matplotlib.pyplot as plt\n",
        "\n",
        "health_data.plot(x ='Average_Pulse', y='Calorie_Burnage', kind='line'),\n",
        "plt.ylim(ymin=0, ymax=400)\n",
        "plt.xlim(xmin=0, xmax=150)\n",
        "\n",
        "plt.show()"
      ],
      "metadata": {
        "id": "SJ6MkK_l8Ove"
      },
      "execution_count": null,
      "outputs": []
    },
    {
      "cell_type": "markdown",
      "source": [
        "# Exemplo explicado\n",
        "\n",
        "    Importe o módulo pyplot da biblioteca matplotlib\n",
        "    Plote os dados de Average_Pulse em relação a Calorie_Burnage\n",
        "    kind='line'nos diz que tipo de enredo queremos. Aqui, queremos ter uma linha reta\n",
        "    plt.ylim() e plt.xlim() nos dizem em qual valor queremos que o eixo inicie e pare.\n",
        "    plt.show() nos mostra a saída\n"
      ],
      "metadata": {
        "id": "7rXPbOfh8QtC"
      }
    }
  ]
}