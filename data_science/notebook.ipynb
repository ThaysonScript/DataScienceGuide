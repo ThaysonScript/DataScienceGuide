{
  "nbformat": 4,
  "nbformat_minor": 0,
  "metadata": {
    "colab": {
      "provenance": [],
      "authorship_tag": "ABX9TyOQ14DGTjMulUIhZV2KF75B"
    },
    "kernelspec": {
      "name": "python3",
      "display_name": "Python 3"
    },
    "language_info": {
      "name": "python"
    }
  },
  "cells": [
    {
      "cell_type": "markdown",
      "source": [
        "# O que é variaveis em data science:\n",
        "\n",
        "Uma variável é definida como algo que pode ser medido ou contado.\n",
        "Os exemplos podem ser caracteres, números ou hora.\n",
        "No exemplo abaixo, podemos observar que cada coluna representa uma variável."
      ],
      "metadata": {
        "id": "PxwQrzxVXz_9"
      }
    },
    {
      "cell_type": "code",
      "execution_count": null,
      "metadata": {
        "id": "2OWkm9KqVOt2"
      },
      "outputs": [],
      "source": [
        "import pandas as pd\n",
        "\n",
        "# Criar um DataFrame com os dados fornecidos\n",
        "data = {\n",
        "    'Duração': [30, 30, 45, 45, 45, 60, 60, 60, 75, 75],\n",
        "    'Média_Pulso': [80, 85, 90, 95, 100, 105, 110, 115, 120, 125],\n",
        "    'Pulso_máx.': [120, 120, 130, 130, 140, 140, 145, 145, 150, 150],\n",
        "    'Caloria_Burnage': [240, 250, 260, 270, 280, 290, 300, 310, 320, 330],\n",
        "    'Horas_Trabalho': [10, 10, 8, 8, 8, 7, 7, 8, 0, 8],\n",
        "    'Horas_sono': [7, 7, 7, 7, 7, 8, 8, 8, 8, 8]\n",
        "}\n",
        "\n",
        "df = pd.DataFrame(data)\n",
        "\n",
        "# Exibir o DataFrame\n",
        "df\n"
      ]
    },
    {
      "cell_type": "markdown",
      "source": [
        "Existem 6 colunas, o que significa que existem 6 variáveis ​​(Duração, Pulso_Médio, Pulso_Máx, Queima de Calorias, Horas_Trabalho, Horas_Sono)."
      ],
      "metadata": {
        "id": "mkSBz3iGZS5f"
      }
    }
  ]
}